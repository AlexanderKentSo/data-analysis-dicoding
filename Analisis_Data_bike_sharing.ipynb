{
  "cells": [
    {
      "cell_type": "markdown",
      "metadata": {
        "id": "H9wADwK78DCz"
      },
      "source": [
        "# Proyek Analisis Data: [Bike-Sharing-Dataset]\n",
        "- **Nama:** Alexander Kent So\n",
        "- **Email:** alexanderkentso96@gmail.com\n",
        "- **ID Dicoding:** alexanderkentso"
      ]
    },
    {
      "cell_type": "markdown",
      "metadata": {
        "id": "eE0raob58DC0"
      },
      "source": [
        "## Menentukan Pertanyaan Bisnis"
      ]
    },
    {
      "cell_type": "markdown",
      "metadata": {
        "id": "GmQeQ5YF8DC0"
      },
      "source": [
        "- Bagaimana pengaruh hari libur terhadap peminjaman sepeda?\n",
        "- Pada jam berapa sepeda paling banyak dipinjam?\n",
        "- Bagaimana pengaruh cuaca terhadap peminjaman sepeda?"
      ]
    },
    {
      "cell_type": "markdown",
      "metadata": {
        "id": "H-z4QGlO8DC1"
      },
      "source": [
        "## Import Semua Packages/Library yang Digunakan"
      ]
    },
    {
      "cell_type": "code",
      "execution_count": 1,
      "metadata": {
        "collapsed": true,
        "id": "FVYwaObI8DC1"
      },
      "outputs": [],
      "source": [
        "import pandas as pd\n",
        "import matplotlib.pyplot as plt"
      ]
    },
    {
      "cell_type": "markdown",
      "metadata": {
        "id": "h_Sh51Xy8DC1"
      },
      "source": [
        "## Data Wrangling"
      ]
    },
    {
      "cell_type": "markdown",
      "metadata": {
        "id": "sXU2GBYu8DC1"
      },
      "source": [
        "### Gathering Data"
      ]
    },
    {
      "cell_type": "code",
      "execution_count": 4,
      "metadata": {
        "collapsed": true,
        "id": "zjCBk1BI8DC1"
      },
      "outputs": [],
      "source": [
        "day = pd.read_csv('data/day.csv')\n",
        "# day.head()\n",
        "hour = pd.read_csv('data/hour.csv')\n",
        "# hour.head()"
      ]
    },
    {
      "cell_type": "markdown",
      "metadata": {
        "id": "MMi6xGaDkbCi"
      },
      "source": [
        "**Insight:**\n",
        "- Membaca data .csv dalam bentuk data frame"
      ]
    },
    {
      "cell_type": "markdown",
      "metadata": {
        "id": "FHSiqaZp8DC1"
      },
      "source": [
        "### Assessing Data"
      ]
    },
    {
      "cell_type": "code",
      "execution_count": 5,
      "metadata": {
        "colab": {
          "base_uri": "https://localhost:8080/"
        },
        "collapsed": true,
        "id": "ax-3tEjc9Cj1",
        "outputId": "9471a1de-edfb-4b45-8209-b7e1c4f0d867"
      },
      "outputs": [
        {
          "name": "stdout",
          "output_type": "stream",
          "text": [
            "DAY\n",
            "Jumlah data: 731\n",
            "\n",
            "Jumlah null:\n",
            "instant       0\n",
            "dteday        0\n",
            "season        0\n",
            "yr            0\n",
            "mnth          0\n",
            "holiday       0\n",
            "weekday       0\n",
            "workingday    0\n",
            "weathersit    0\n",
            "temp          0\n",
            "atemp         0\n",
            "hum           0\n",
            "windspeed     0\n",
            "casual        0\n",
            "registered    0\n",
            "cnt           0\n",
            "dtype: int64\n",
            "\n",
            "nilai ekstrim:\n",
            "         instant    season        yr       mnth   holiday   weekday  \\\n",
            "min     1.000000  1.000000  0.000000   1.000000  0.000000  0.000000   \n",
            "max   731.000000  4.000000  1.000000  12.000000  1.000000  6.000000   \n",
            "mean  366.000000  2.496580  0.500684   6.519836  0.028728  2.997264   \n",
            "std   211.165812  1.110807  0.500342   3.451913  0.167155  2.004787   \n",
            "\n",
            "      workingday  weathersit      temp     atemp       hum  windspeed  \\\n",
            "min     0.000000    1.000000  0.059130  0.079070  0.000000   0.022392   \n",
            "max     1.000000    3.000000  0.861667  0.840896  0.972500   0.507463   \n",
            "mean    0.683995    1.395349  0.495385  0.474354  0.627894   0.190486   \n",
            "std     0.465233    0.544894  0.183051  0.162961  0.142429   0.077498   \n",
            "\n",
            "           casual   registered          cnt  \n",
            "min      2.000000    20.000000    22.000000  \n",
            "max   3410.000000  6946.000000  8714.000000  \n",
            "mean   848.176471  3656.172367  4504.348837  \n",
            "std    686.622488  1560.256377  1937.211452  \n",
            "\n",
            "\n",
            "\n",
            "HOUR\n",
            "Jumlah data: 17379\n",
            "\n",
            "Jumlah null:\n",
            "instant       0\n",
            "dteday        0\n",
            "season        0\n",
            "yr            0\n",
            "mnth          0\n",
            "hr            0\n",
            "holiday       0\n",
            "weekday       0\n",
            "workingday    0\n",
            "weathersit    0\n",
            "temp          0\n",
            "atemp         0\n",
            "hum           0\n",
            "windspeed     0\n",
            "casual        0\n",
            "registered    0\n",
            "cnt           0\n",
            "dtype: int64\n",
            "\n",
            "nilai ekstrim:\n",
            "         instant    season        yr       mnth         hr   holiday  \\\n",
            "min       1.0000  1.000000  0.000000   1.000000   0.000000  0.000000   \n",
            "max   17379.0000  4.000000  1.000000  12.000000  23.000000  1.000000   \n",
            "mean   8690.0000  2.501640  0.502561   6.537775  11.546752  0.028770   \n",
            "std    5017.0295  1.106918  0.500008   3.438776   6.914405  0.167165   \n",
            "\n",
            "       weekday  workingday  weathersit      temp     atemp       hum  \\\n",
            "min   0.000000    0.000000    1.000000  0.020000  0.000000  0.000000   \n",
            "max   6.000000    1.000000    4.000000  1.000000  1.000000  1.000000   \n",
            "mean  3.003683    0.682721    1.425283  0.496987  0.475775  0.627229   \n",
            "std   2.005771    0.465431    0.639357  0.192556  0.171850  0.192930   \n",
            "\n",
            "      windspeed      casual  registered         cnt  \n",
            "min    0.000000    0.000000    0.000000    1.000000  \n",
            "max    0.850700  367.000000  886.000000  977.000000  \n",
            "mean   0.190098   35.676218  153.786869  189.463088  \n",
            "std    0.122340   49.305030  151.357286  181.387599  \n",
            "\n",
            "\n",
            "\n"
          ]
        }
      ],
      "source": [
        "def assess(df):\n",
        "  print('Jumlah data:',df.shape[0])\n",
        "  print('\\nJumlah null:')\n",
        "  print(df.isnull().sum())\n",
        "  print('\\nnilai ekstrim:')\n",
        "  print(df.describe().loc[['min','max','mean','std']])\n",
        "  print('\\n\\n')\n",
        "\n",
        "print('DAY')\n",
        "assess(day)\n",
        "\n",
        "print('HOUR')\n",
        "assess(hour)"
      ]
    },
    {
      "cell_type": "markdown",
      "metadata": {
        "id": "7dtxhAPrkhPL"
      },
      "source": [
        "**Insight:**\n",
        "- Data tidak menunjukan adanya null\n",
        "- Data menunjukan kecil kemungkinan adanya invalid value"
      ]
    },
    {
      "cell_type": "markdown",
      "metadata": {
        "id": "EhN5R4hr8DC1"
      },
      "source": [
        "### Cleaning Data"
      ]
    },
    {
      "cell_type": "code",
      "execution_count": 6,
      "metadata": {
        "id": "jVnYpprE9Evz"
      },
      "outputs": [],
      "source": [
        "day.drop('instant', axis=1, inplace=True)\n",
        "day.drop('season', axis=1, inplace=True)\n",
        "day.drop('atemp', axis=1, inplace=True)\n",
        "day.drop('weekday', axis=1, inplace=True)\n",
        "day.drop('holiday', axis=1, inplace=True)\n",
        "day.drop('casual', axis=1, inplace=True)\n",
        "day.drop('registered', axis=1, inplace=True)\n",
        "\n",
        "hour.drop('instant', axis=1, inplace=True)\n",
        "hour.drop('season', axis=1, inplace=True)\n",
        "hour.drop('atemp', axis=1, inplace=True)\n",
        "hour.drop('weekday', axis=1, inplace=True)\n",
        "hour.drop('holiday', axis=1, inplace=True)\n",
        "hour.drop('casual', axis=1, inplace=True)\n",
        "hour.drop('registered', axis=1, inplace=True)"
      ]
    },
    {
      "cell_type": "markdown",
      "metadata": {
        "id": "Q_5ejIqckiSP"
      },
      "source": [
        "**Insight:**\n",
        "- Beberapa kolom seperti instant, season, casual, registered, holiday, weekday, dan atemp kemungkinan redundant\n",
        "- Kolom instant hanya merupakan index dari data sehingga bisa diabaikan\n",
        "- Kolom season bisa diabaikan karena kita punya informasi yang lebih akurat dari kolom weathersit\n",
        "- kolom casual dan registered bisa diabaikan dalam kasus ini karena kita lebih berfokus ke hasil keseluruhannya\n",
        "- kolom holiday bisa diabaikan karena kita bisa mengetahui hari tersebut libur atau tidak dari kolom working day, kolom holiday juga tidak memberikan data yang cukup untuk analisis khusus karena hanya terjadi 1 atau 2 kali dalam sebulan\n",
        "- Kolom weekday hanya menunjukan hari dari senin hingga minggu\n",
        "- Kolom atemp hanya bentuk lain dari kolom temp\n",
        "- Dengan mengurangi kolom, diharapkan bisa mengurangi beban komputasi"
      ]
    },
    {
      "cell_type": "markdown",
      "metadata": {
        "id": "gp-Y6wU38DC1"
      },
      "source": [
        "## Exploratory Data Analysis (EDA)"
      ]
    },
    {
      "cell_type": "markdown",
      "metadata": {
        "id": "MW7WF2kr8DC1"
      },
      "source": [
        "### Explore ..."
      ]
    },
    {
      "cell_type": "code",
      "execution_count": 7,
      "metadata": {
        "colab": {
          "base_uri": "https://localhost:8080/"
        },
        "id": "e9CQCZjk8DC2",
        "outputId": "e07cbd4d-7fc4-4f66-a319-257dd9051d35"
      },
      "outputs": [
        {
          "name": "stdout",
          "output_type": "stream",
          "text": [
            "workingday\n",
            "0    4330.168831\n",
            "1    4584.820000\n",
            "Name: cnt, dtype: float64 \n",
            "\n",
            "hr\n",
            "0      53.898072\n",
            "1      33.375691\n",
            "2      22.869930\n",
            "3      11.727403\n",
            "4       6.352941\n",
            "5      19.889819\n",
            "6      76.044138\n",
            "7     212.064649\n",
            "8     359.011004\n",
            "9     219.309491\n",
            "10    173.668501\n",
            "11    208.143054\n",
            "12    253.315934\n",
            "13    253.661180\n",
            "14    240.949246\n",
            "15    251.233196\n",
            "16    311.983562\n",
            "17    461.452055\n",
            "18    425.510989\n",
            "19    311.523352\n",
            "20    226.030220\n",
            "21    172.314560\n",
            "22    131.335165\n",
            "23     87.831044\n",
            "Name: cnt, dtype: float64 \n",
            "\n",
            "weathersit\n",
            "1    204.869272\n",
            "2    175.165493\n",
            "3    111.579281\n",
            "4     74.333333\n",
            "Name: cnt, dtype: float64\n"
          ]
        }
      ],
      "source": [
        "# rata-rata peminjaman sepeda di hari libur dan hari kerja\n",
        "# di sini menggunakan data dari day.csv karena saya ingin mengetahui 'cnt' dalam 1 hari kerja/libur\n",
        "data_hari = day.groupby('workingday')['cnt'].mean()\n",
        "print(data_hari,'\\n')\n",
        "\n",
        "# rata-rata peminjaman sepeda setiap jamnya\n",
        "data_jam = hour.groupby('hr')['cnt'].mean()\n",
        "print(data_jam,'\\n')\n",
        "\n",
        "# rata-rata peminjaman sepeda tergantung cuacanya\n",
        "# di sini saya menggunakan data dari hour.csv karena weathersit berubah setiap jamnya\n",
        "# dengan menggunakan data dari hour.csv hasil yang didapat menjadi lebih detail\n",
        "data_cuaca = hour.groupby('weathersit')['cnt'].mean()\n",
        "print(data_cuaca)"
      ]
    },
    {
      "cell_type": "markdown",
      "metadata": {
        "id": "th_Lzl2Fkj9O"
      },
      "source": [
        "**Insight:**\n",
        "- Pada bagian ini kita lakukan binning untuk menemukan rata-rata peminjaman sepeda dari tiap kriterianya\n",
        "- Pada data pertama, bisa dilihat jika rata-rata jumlah peminjaman sepeda tidak jauh berbeda antaar hari kerja dan hari libur. Walau terjadi sedikit penurunan pada hari libur\n",
        "- Pada data ke-2, bisa dilihat rata-rata peminjaman sepeda per jamnya\n",
        "- Pada data ke-3, bisa dilihat penurunan jumlah peminjaman sepeda yang cukup signifikan seiring memburuknya keadaan cuaca"
      ]
    },
    {
      "cell_type": "markdown",
      "metadata": {
        "id": "zsyZjqak8DC2"
      },
      "source": [
        "## Visualization & Explanatory Analysis"
      ]
    },
    {
      "cell_type": "markdown",
      "metadata": {
        "id": "HZxOiQ6n8DC2"
      },
      "source": [
        "### Pertanyaan 1: Bagaimana pengaruh hari libur terhadap peminjaman sepeda?"
      ]
    },
    {
      "cell_type": "code",
      "execution_count": 8,
      "metadata": {
        "colab": {
          "base_uri": "https://localhost:8080/",
          "height": 472
        },
        "id": "1swJUdAD8DC2",
        "outputId": "272d6bb6-84bb-4981-fde0-27615d6a8226"
      },
      "outputs": [
        {
          "data": {
            "image/png": "[encoded data removed]",
            "text/plain": [
              "<Figure size 640x480 with 1 Axes>"
            ]
          },
          "metadata": {},
          "output_type": "display_data"
        }
      ],
      "source": [
        "plt.bar(data_hari.index, data_hari.values)\n",
        "\n",
        "plt.xlabel('Tipe hari')\n",
        "plt.ylabel('Rata-rata Peminjaman Sepeda')\n",
        "plt.title('Rata-rata Peminjaman Sepeda di Hari Kerja dan Libur')\n",
        "\n",
        "plt.xticks(ticks=range(2), labels=['Libur', 'Kerja'])\n",
        "\n",
        "plt.show()"
      ]
    },
    {
      "cell_type": "markdown",
      "metadata": {
        "id": "DgHI7CiU8DC2"
      },
      "source": [
        "### Pertanyaan 2: Pada jam berapa sepeda paling banyak dipinjam?"
      ]
    },
    {
      "cell_type": "code",
      "execution_count": 9,
      "metadata": {
        "colab": {
          "base_uri": "https://localhost:8080/",
          "height": 472
        },
        "id": "Go0lCsvO8DC2",
        "outputId": "0925a67f-7144-44b0-ae5a-2ffa99e479cd"
      },
      "outputs": [
        {
          "data": {
            "image/png": "[encoded data removed]",
            "text/plain": [
              "<Figure size 640x480 with 1 Axes>"
            ]
          },
          "metadata": {},
          "output_type": "display_data"
        }
      ],
      "source": [
        "plt.bar(data_jam.index, data_jam.values)\n",
        "\n",
        "plt.xlabel('jam')\n",
        "plt.ylabel('rata-rata peminjaman sepeda')\n",
        "plt.title('rata-rata peminjaman sepeda per jamnya')\n",
        "\n",
        "plt.xticks(ticks=range(0,24,2))\n",
        "\n",
        "plt.show()"
      ]
    },
    {
      "cell_type": "markdown",
      "metadata": {
        "id": "-lQggmPDIlYy"
      },
      "source": [
        "### Pertanyaan 3: Bagaimana pengaruh cuaca terhadap peminjaman sepeda?\n"
      ]
    },
    {
      "cell_type": "code",
      "execution_count": 10,
      "metadata": {
        "colab": {
          "base_uri": "https://localhost:8080/",
          "height": 472
        },
        "id": "-LSIT05UIl5Y",
        "outputId": "d48f98ef-34d2-43a7-8bb8-96c4fa114260"
      },
      "outputs": [
        {
          "data": {
            "image/png": "[encoded data removed]",
            "text/plain": [
              "<Figure size 640x480 with 1 Axes>"
            ]
          },
          "metadata": {},
          "output_type": "display_data"
        }
      ],
      "source": [
        "plt.bar(data_cuaca.index, data_cuaca.values)\n",
        "\n",
        "plt.xlabel('cuaca')\n",
        "plt.ylabel('rata-rata peminjaman sepeda')\n",
        "plt.title('rata-rata peminjaman sepeda berdasarkan cuaca')\n",
        "\n",
        "plt.xticks(ticks=range(1,5),labels=['cerah','mendung', 'gerimis', 'hujan lebat'])\n",
        "\n",
        "plt.show()"
      ]
    },
    {
      "cell_type": "markdown",
      "metadata": {
        "id": "_0-36BDLklRg"
      },
      "source": [
        "**Insight:**\n",
        "- Pada grafik 1, dapat dilihat jika rata-rata jumlah peminjaman sepeda antara hari libur dan hari kerja tidak memiliki perbedaan yang signifikan\n",
        "- Pada grafik 2, kita dapat melihat rata-rata jumlah peminjaman sepeda untuk setiap jam nya\n",
        "- Pada grafik 3, dapat dilihat seiring bertambah buruknya cuaca, semakin menurun juga jumlah rata-rata peminjaman sepeda"
      ]
    },
    {
      "cell_type": "markdown",
      "metadata": {
        "id": "_WeHlCeX8DC2"
      },
      "source": [
        "## Conclusion"
      ]
    },
    {
      "cell_type": "markdown",
      "metadata": {
        "id": "ZTcyR48Y8DC2"
      },
      "source": [
        "- Hari libur tidak mempengaruhi jumlah peminjaman sepeda secara signifikan dan hanya menyebabkan sedikit penurunan jumlah peminjaman sepeda dibanding hari kerja\n",
        "- Sepeda paling banyak dipinjam pada jam 5 sore. Jika dilihat dari grafiknya mungkin bisa diambil kesimpulan bahwa kebanyakan orang mulai beraktivitas dari jam 8 pagi dan pulang jam 5 sore\n",
        "- Cuaca sangat berpengaruh dalam jumlah peminjaman sepeda. Semakin buruk cuacanya, semakin sedikit jumlah peminjaman sepeda"
      ]
    }
  ],
  "metadata": {
    "colab": {
      "provenance": []
    },
    "kernelspec": {
      "display_name": "Python 3",
      "language": "python",
      "name": "python3"
    },
    "language_info": {
      "codemirror_mode": {
        "name": "ipython",
        "version": 3
      },
      "file_extension": ".py",
      "mimetype": "text/x-python",
      "name": "python",
      "nbconvert_exporter": "python",
      "pygments_lexer": "ipython3",
      "version": "3.12.5"
    },
    "orig_nbformat": 4,
    "vscode": {
      "interpreter": {
        "hash": "972b3bf27e332e87b5379f2791f6ef9dfc79c71018c370b0d7423235e20fe4d7"
      }
    }
  },
  "nbformat": 4,
  "nbformat_minor": 0
}
